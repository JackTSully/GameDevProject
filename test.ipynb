{
 "cells": [
  {
   "cell_type": "code",
   "execution_count": 1,
   "metadata": {},
   "outputs": [],
   "source": [
    "from src.Room import Room"
   ]
  },
  {
   "cell_type": "code",
   "execution_count": 2,
   "metadata": {},
   "outputs": [],
   "source": [
    "floor_lvl = 1\n",
    "start_room_id = int(str(floor_lvl)+'0')\n",
    "start_room = Room(start_room_id, floor_lvl, None, None)\n",
    "\n",
    "rooms = {\n",
    "            'start' : start_room,\n",
    "            'room1' : Room(int(str(floor_lvl)+\"1\"), floor_lvl, start_room, None),\n",
    "            'room2' : Room(int(str(floor_lvl)+\"2\"), floor_lvl, start_room, None),\n",
    "            'room3' : Room(int(str(floor_lvl)+\"3\"), floor_lvl, start_room, None),\n",
    "            'boss'  : Room(int(str(floor_lvl)+\"4\"), floor_lvl, start_room, None),\n",
    "        }"
   ]
  },
  {
   "cell_type": "code",
   "execution_count": 10,
   "metadata": {},
   "outputs": [
    {
     "data": {
      "text/plain": [
       "<src.Room.Room at 0x21bd77cbd10>"
      ]
     },
     "execution_count": 10,
     "metadata": {},
     "output_type": "execute_result"
    }
   ],
   "source": [
    "rooms['start']"
   ]
  },
  {
   "cell_type": "code",
   "execution_count": 14,
   "metadata": {},
   "outputs": [],
   "source": [
    "for room in rooms:\n",
    "    if room == 'start':\n",
    "        prev_room = room\n",
    "        continue\n",
    "    rooms[room].set_prev_room(rooms[prev_room])\n",
    "    prev_room = room"
   ]
  },
  {
   "cell_type": "code",
   "execution_count": 20,
   "metadata": {},
   "outputs": [
    {
     "data": {
      "text/plain": [
       "13"
      ]
     },
     "execution_count": 20,
     "metadata": {},
     "output_type": "execute_result"
    }
   ],
   "source": [
    "rooms['boss'].get_prev_rooms().get_room_id()"
   ]
  }
 ],
 "metadata": {
  "kernelspec": {
   "display_name": "Python 3",
   "language": "python",
   "name": "python3"
  },
  "language_info": {
   "codemirror_mode": {
    "name": "ipython",
    "version": 3
   },
   "file_extension": ".py",
   "mimetype": "text/x-python",
   "name": "python",
   "nbconvert_exporter": "python",
   "pygments_lexer": "ipython3",
   "version": "3.11.3"
  }
 },
 "nbformat": 4,
 "nbformat_minor": 2
}
